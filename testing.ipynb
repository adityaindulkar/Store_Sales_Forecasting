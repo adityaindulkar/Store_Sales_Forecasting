{
 "cells": [
  {
   "cell_type": "markdown",
   "id": "deb03aa2-532d-49ab-8f0a-d8f7929f063c",
   "metadata": {},
   "source": [
    "TESTING THE SERVER CONNECTION"
   ]
  },
  {
   "cell_type": "code",
   "execution_count": 7,
   "id": "582f0a5f-c114-4d56-bc5f-e428a7641c86",
   "metadata": {},
   "outputs": [
    {
     "name": "stdout",
     "output_type": "stream",
     "text": [
      "{\"status\":\"healthy\"}\n"
     ]
    }
   ],
   "source": [
    "!curl http://localhost:8080/ping"
   ]
  },
  {
   "cell_type": "markdown",
   "id": "0da158ac-0108-4cb1-930f-7d653f122fc3",
   "metadata": {},
   "source": [
    "MAKING PREDICTIONS"
   ]
  },
  {
   "cell_type": "code",
   "execution_count": 10,
   "id": "a3144903-f0a6-4b0f-9d15-f81803bde8ac",
   "metadata": {},
   "outputs": [
    {
     "name": "stdout",
     "output_type": "stream",
     "text": [
      "Ping failed: HTTPConnectionPool(host='localhost', port=8080): Max retries exceeded with url: /ping (Caused by NewConnectionError('<urllib3.connection.HTTPConnection object at 0x7f1c66065930>: Failed to establish a new connection: [Errno 111] Connection refused'))\n",
      "Prediction failed: HTTPConnectionPool(host='localhost', port=8080): Max retries exceeded with url: /invocations (Caused by NewConnectionError('<urllib3.connection.HTTPConnection object at 0x7f1c8b892830>: Failed to establish a new connection: [Errno 111] Connection refused'))\n"
     ]
    }
   ],
   "source": [
    "import requests\n",
    "import json\n",
    "\n",
    "# Test data\n",
    "test_data = {\n",
    "    \"year\": 2023,\n",
    "    \"month\": 3,\n",
    "    \"quarter\": 1,\n",
    "    \"week_of_year\": 10,\n",
    "    \"day_of_week\": 2,\n",
    "    \"day_of_month\": 15,\n",
    "    \"is_month_start\": 0,\n",
    "    \"is_month_end\": 0,\n",
    "    \"month_sin\": 0.5,\n",
    "    \"month_cos\": 0.866,\n",
    "    \"day_of_week_sin\": 0.781,\n",
    "    \"day_of_week_cos\": 0.623,\n",
    "    \"is_weekend\": False,\n",
    "    \"is_holiday\": False,\n",
    "    \"Ship Mode_encoded\": 2,\n",
    "    \"Segment_encoded\": 1,\n",
    "    \"City_encoded\": 45,\n",
    "    \"State_encoded\": 5,\n",
    "    \"Category_encoded\": 1,\n",
    "    \"Sub-Category_encoded\": 3,\n",
    "    \"Region_encoded\": 2,\n",
    "    \"total_weekends\": 8,\n",
    "    \"total_holidays\": 1,\n",
    "    \"weekend_proportion\": 1.0,\n",
    "    \"holiday_proportion\": 0.33,\n",
    "    \"log_sales_lag_1\": 5.2,\n",
    "    \"log_sales_lag_2\": 5.1,\n",
    "    \"log_sales_lag_3\": 5.0,\n",
    "    \"log_sales_lag_6\": 4.9,\n",
    "    \"log_sales_lag_12\": 4.8,\n",
    "    \"rolling_mean_3\": 6.1,\n",
    "    \"rolling_std_3\": 0.1,\n",
    "    \"rolling_mean_6\": 5.05,\n",
    "    \"rolling_std_6\": 0.15,\n",
    "    \"rolling_mean_12\": 5.0,\n",
    "    \"rolling_std_12\": 0.2,\n",
    "    \"yoy_growth\": 0.04,\n",
    "    \"mom_growth\": 0.02,\n",
    "    \"city_target_encoded\": 5.1,\n",
    "    \"state_target_encoded\": 5.05\n",
    "}\n",
    "\n",
    "# Test the ping endpoint first\n",
    "try:\n",
    "    response = requests.get(\"http://localhost:8080/ping\")\n",
    "    print(\"Ping response:\", response.json())\n",
    "except Exception as e:\n",
    "    print(\"Ping failed:\", e)\n",
    "\n",
    "# Test the prediction endpoint\n",
    "try:\n",
    "    response = requests.post(\n",
    "        \"http://localhost:8080/invocations\",\n",
    "        headers={\"Content-Type\": \"application/json\"},\n",
    "        json=test_data\n",
    "    )\n",
    "    print(\"Prediction response:\", response.json())\n",
    "except Exception as e:\n",
    "    print(\"Prediction failed:\", e)"
   ]
  },
  {
   "cell_type": "code",
   "execution_count": 11,
   "id": "9ee8ebf7-1ff8-450d-b61b-9199286b5d43",
   "metadata": {
    "scrolled": true
   },
   "outputs": [
    {
     "name": "stdout",
     "output_type": "stream",
     "text": [
      "✅ Prediction successful!\n",
      "Prediction result: {'prediction': [166.4296802456652], 'status': 'success'}\n"
     ]
    }
   ],
   "source": [
    "import boto3\n",
    "import json\n",
    "\n",
    "# Initialize SageMaker runtime client\n",
    "runtime = boto3.client('sagemaker-runtime', region_name='us-east-1') \n",
    "\n",
    "# Your test data - make sure it matches ALL features from updated_features\n",
    "test_data = {\n",
    "    \"year\": 2024,\n",
    "    \"month\": 3,\n",
    "    \"quarter\": 1,\n",
    "    \"week_of_year\": 10,\n",
    "    \"day_of_week\": 2,\n",
    "    \"day_of_month\": 15,\n",
    "    \"is_month_start\": 0,\n",
    "    \"is_month_end\": 0,\n",
    "    \"month_sin\": 0.5,\n",
    "    \"month_cos\": 0.866,\n",
    "    \"day_of_week_sin\": 0.781,\n",
    "    \"day_of_week_cos\": 0.623,\n",
    "    \"is_weekend\": False,\n",
    "    \"is_holiday\": False,\n",
    "    \"Ship Mode_encoded\": 2,\n",
    "    \"Segment_encoded\": 1,\n",
    "    \"City_encoded\": 45,\n",
    "    \"State_encoded\": 5,\n",
    "    \"Category_encoded\": 1,\n",
    "    \"Sub-Category_encoded\": 3,\n",
    "    \"Region_encoded\": 2,\n",
    "    \"total_weekends\": 8,\n",
    "    \"total_holidays\": 1,\n",
    "    \"weekend_proportion\": 1.0,\n",
    "    \"holiday_proportion\": 0.33,\n",
    "    \"log_sales_lag_1\": 5.2,\n",
    "    \"log_sales_lag_2\": 5.1,\n",
    "    \"log_sales_lag_3\": 5.0,\n",
    "    \"log_sales_lag_6\": 4.9,\n",
    "    \"log_sales_lag_12\": 4.8,\n",
    "    \"rolling_mean_3\": 5.1,\n",
    "    \"rolling_std_3\": 0.1,\n",
    "    \"rolling_mean_6\": 5.05,\n",
    "    \"rolling_std_6\": 0.15,\n",
    "    \"rolling_mean_12\": 5.0,\n",
    "    \"rolling_std_12\": 0.2,\n",
    "    \"yoy_growth\": 0.04,\n",
    "    \"mom_growth\": 0.02,\n",
    "    \"city_target_encoded\": 5.1,\n",
    "    \"state_target_encoded\": 5.05\n",
    "}\n",
    "\n",
    "# Make prediction\n",
    "try:\n",
    "    response = runtime.invoke_endpoint(\n",
    "        EndpointName='sklearn-170-custom-endpoint-1757194043',  # your endpoint name\n",
    "        ContentType='application/json',\n",
    "        Body=json.dumps(test_data)\n",
    "    )\n",
    "    \n",
    "    result = json.loads(response['Body'].read().decode())\n",
    "    print(\"✅ Prediction successful!\")\n",
    "    print(\"Prediction result:\", result)\n",
    "    \n",
    "except Exception as e:\n",
    "    print(f\"❌ Prediction failed: {e}\")"
   ]
  },
  {
   "cell_type": "code",
   "execution_count": null,
   "id": "2b9a3144-c96c-4f3b-ba5b-384188042e8d",
   "metadata": {},
   "outputs": [],
   "source": []
  }
 ],
 "metadata": {
  "kernelspec": {
   "display_name": "conda_python3",
   "language": "python",
   "name": "conda_python3"
  },
  "language_info": {
   "codemirror_mode": {
    "name": "ipython",
    "version": 3
   },
   "file_extension": ".py",
   "mimetype": "text/x-python",
   "name": "python",
   "nbconvert_exporter": "python",
   "pygments_lexer": "ipython3",
   "version": "3.10.18"
  }
 },
 "nbformat": 4,
 "nbformat_minor": 5
}
